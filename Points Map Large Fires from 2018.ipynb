{
 "cells": [
  {
   "cell_type": "code",
   "execution_count": null,
   "id": "fde34fe7",
   "metadata": {},
   "outputs": [],
   "source": [
    "import sqlite3  \n",
    "import pandas as pd\n",
    "import matplotlib.pyplot as plt\n",
    "import numpy as np\n",
    "import folium\n",
    "\n",
    "\n",
    "conn = sqlite3.connect('Data/FPA_FOD_20221014.sqlite')\n",
    "#in lieu of dataframe manipulation in the next code block:\n",
    "df = pd.read_sql_query(\"\"\"SELECT *\n",
    "                       FROM Fires\"\"\", conn).query(\"FIRE_SIZE >= 300 & FIRE_YEAR >= 2014\")\n",
    "\n",
    "\n",
    "#df = pd.read_csv(\"Data/wildfire_classes1.csv\").dropna()\n",
    "bike_station_locations = df[[\"LATITUDE\", \"LONGITUDE\", \"FIRE_SIZE\"]]\n",
    "\n",
    "m = folium.Map(location=[bike_station_locations.LATITUDE.mean(), bike_station_locations.LONGITUDE.mean()], zoom_start=4, control_scale=True)"
   ]
  },
  {
   "cell_type": "code",
   "execution_count": null,
   "id": "425375cb",
   "metadata": {},
   "outputs": [],
   "source": [
    "bike_station_locations"
   ]
  },
  {
   "cell_type": "code",
   "execution_count": null,
   "id": "f96ae089",
   "metadata": {},
   "outputs": [],
   "source": [
    "m = folium.Map(location=[bike_station_locations.LATITUDE.mean(), bike_station_locations.LONGITUDE.mean()], zoom_start=4, control_scale=True)"
   ]
  },
  {
   "cell_type": "code",
   "execution_count": null,
   "id": "d92db916",
   "metadata": {},
   "outputs": [],
   "source": [
    "env = pd.read_csv(\"env.csv\", encoding='latin-1').iloc[0:1625, :]"
   ]
  },
  {
   "cell_type": "code",
   "execution_count": null,
   "id": "d84d0917",
   "metadata": {},
   "outputs": [],
   "source": [
    "env"
   ]
  },
  {
   "cell_type": "code",
   "execution_count": null,
   "id": "f6dccb14",
   "metadata": {},
   "outputs": [],
   "source": [
    "def colorcode(x):\n",
    "    if x in range(0,300):\n",
    "        color = 'purple'\n",
    "    else:\n",
    "        color = 'red'\n",
    "    return color"
   ]
  },
  {
   "cell_type": "code",
   "execution_count": null,
   "id": "b1de1696",
   "metadata": {},
   "outputs": [],
   "source": [
    "for index, location_info1 in env.iterrows():\n",
    "    folium.Circle(\n",
    "        location=[location_info1[\"Latitude\"], location_info1[\"Longitude\"]],\n",
    "        radius = 20000,\n",
    "        fill=True,\n",
    "        color = \"darkblue\",\n",
    "        fill_opacity = 0.5,\n",
    "        weight = 0.01\n",
    "    ).add_to(m)\n",
    "m.save(\"map.html\")"
   ]
  },
  {
   "cell_type": "code",
   "execution_count": null,
   "id": "1d14536b",
   "metadata": {
    "scrolled": true
   },
   "outputs": [],
   "source": [
    "for index, location_info in bike_station_locations.iterrows():\n",
    "    marker = folium.Circle(location=[location_info[\"LATITUDE\"], location_info[\"LONGITUDE\"]], \n",
    "                           radius = 0.00000000000000000000000001, \n",
    "                           color = colorcode(int(location_info[\"FIRE_SIZE\"])), \n",
    "                           fill=True, \n",
    "                           fill_opacity=0.6,\n",
    "                           weight = 1\n",
    "                            )\n",
    "    \n",
    "    marker.add_to(m)"
   ]
  },
  {
   "cell_type": "code",
   "execution_count": null,
   "id": "6be70687",
   "metadata": {},
   "outputs": [],
   "source": [
    "m"
   ]
  },
  {
   "cell_type": "code",
   "execution_count": null,
   "id": "f262c8ed",
   "metadata": {},
   "outputs": [],
   "source": [
    "m.save(\"map5.html\")\n",
    "m"
   ]
  }
 ],
 "metadata": {
  "kernelspec": {
   "display_name": "Python 3 (ipykernel)",
   "language": "python",
   "name": "python3"
  },
  "language_info": {
   "codemirror_mode": {
    "name": "ipython",
    "version": 3
   },
   "file_extension": ".py",
   "mimetype": "text/x-python",
   "name": "python",
   "nbconvert_exporter": "python",
   "pygments_lexer": "ipython3",
   "version": "3.9.13"
  }
 },
 "nbformat": 4,
 "nbformat_minor": 5
}
